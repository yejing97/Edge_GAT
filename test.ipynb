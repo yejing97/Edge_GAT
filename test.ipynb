{
 "cells": [
  {
   "cell_type": "code",
   "execution_count": 1,
   "metadata": {},
   "outputs": [],
   "source": [
    "import numpy as np\n",
    "npz = np.load('/home/e19b516g/yejing/data/data_for_graph/npz/val/form_5_648_E3236.npz')"
   ]
  },
  {
   "cell_type": "code",
   "execution_count": 3,
   "metadata": {},
   "outputs": [
    {
     "name": "stdout",
     "output_type": "stream",
     "text": [
      "[[0. 2. 0. 0. 0. 0. 0. 0. 0. 0.]\n",
      " [8. 0. 2. 0. 0. 0. 0. 0. 0. 0.]\n",
      " [0. 8. 0. 2. 2. 0. 0. 0. 0. 0.]\n",
      " [0. 0. 8. 0. 1. 2. 2. 2. 0. 0.]\n",
      " [0. 0. 8. 1. 0. 2. 2. 2. 0. 0.]\n",
      " [0. 0. 0. 8. 8. 0. 1. 1. 2. 2.]\n",
      " [0. 0. 0. 8. 8. 1. 0. 1. 2. 2.]\n",
      " [0. 0. 0. 8. 8. 1. 1. 0. 2. 2.]\n",
      " [0. 0. 0. 0. 0. 8. 8. 8. 0. 1.]\n",
      " [0. 0. 0. 0. 0. 8. 8. 8. 1. 0.]]\n"
     ]
    }
   ],
   "source": [
    "print(npz['edge_labels'])"
   ]
  },
  {
   "cell_type": "code",
   "execution_count": 6,
   "metadata": {},
   "outputs": [
    {
     "data": {
      "text/plain": [
       "tensor([[1, 1],\n",
       "        [1, 1]])"
      ]
     },
     "execution_count": 6,
     "metadata": {},
     "output_type": "execute_result"
    }
   ],
   "source": [
    "import torch\n",
    "a = torch.tensor([[0,1],[1,0]])\n",
    "# fill the diagonal with 1\n",
    "a.fill_diagonal_(1)"
   ]
  }
 ],
 "metadata": {
  "kernelspec": {
   "display_name": "Python 3",
   "language": "python",
   "name": "python3"
  },
  "language_info": {
   "codemirror_mode": {
    "name": "ipython",
    "version": 3
   },
   "file_extension": ".py",
   "mimetype": "text/x-python",
   "name": "python",
   "nbconvert_exporter": "python",
   "pygments_lexer": "ipython3",
   "version": "3.10.12"
  },
  "orig_nbformat": 4
 },
 "nbformat": 4,
 "nbformat_minor": 2
}
